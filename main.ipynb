{
 "cells": [
  {
   "cell_type": "code",
   "execution_count": 5,
   "metadata": {},
   "outputs": [
    {
     "name": "stdout",
     "output_type": "stream",
     "text": [
      "Requirement already satisfied: sentencepiece in f:\\ml projects\\verbolumiere\\venv310\\lib\\site-packages (0.2.0)\n",
      "Note: you may need to restart the kernel to use updated packages.\n"
     ]
    }
   ],
   "source": [
    "%pip install sentencepiece\n"
   ]
  },
  {
   "cell_type": "code",
   "execution_count": 9,
   "metadata": {},
   "outputs": [],
   "source": [
    "import os\n",
    "import torch\n",
    "import numpy as np\n",
    "from pydub import AudioSegment\n",
    "from transformers import WhisperProcessor, WhisperForConditionalGeneration\n",
    "from transformers import MarianTokenizer, MarianMTModel\n",
    "import pyttsx3\n",
    "from moviepy.editor import VideoFileClip"
   ]
  },
  {
   "cell_type": "code",
   "execution_count": null,
   "metadata": {},
   "outputs": [],
   "source": [
    "# Initialize models\n",
    "processor = WhisperProcessor.from_pretrained(\"openai/whisper-large\")\n",
    "model = WhisperForConditionalGeneration.from_pretrained(\"openai/whisper-large\")\n",
    "translator_model_name = \"Helsinki-NLP/opus-mt-fr-en\"\n",
    "tokenizer = MarianTokenizer.from_pretrained(translator_model_name)\n",
    "translator = MarianMTModel.from_pretrained(translator_model_name)\n",
    "\n",
    "# Load audio safely using pydub (FFmpeg)\n",
    "def load_audio_for_whisper(audio_path, target_sample_rate=16000):\n",
    "    audio = AudioSegment.from_file(audio_path).set_channels(1).set_frame_rate(target_sample_rate)\n",
    "    samples = np.array(audio.get_array_of_samples()).astype(np.float32) / 32768.0  # normalize to [-1, 1]\n",
    "    return samples\n",
    "\n",
    "# Transcribe with Whisper\n",
    "def transcribe_audio(audio_path, target_lang=\"en\"):\n",
    "    waveform = load_audio_for_whisper(audio_path)\n",
    "    inputs = processor(waveform, sampling_rate=16000, return_tensors=\"pt\", padding=True)\n",
    "    input_features = inputs.input_features\n",
    "    attention_mask = inputs.attention_mask if 'attention_mask' in inputs else None\n",
    "\n",
    "    with torch.no_grad():\n",
    "        predicted_ids = model.generate(\n",
    "            input_features, language=target_lang, attention_mask=attention_mask\n",
    "        )\n",
    "    transcription = processor.batch_decode(predicted_ids, skip_special_tokens=True)[0]\n",
    "    return transcription\n",
    "\n",
    "# Translate with MarianMT\n",
    "def translate_text(text, target_lang=\"en\"):\n",
    "    inputs = tokenizer(text, return_tensors=\"pt\", padding=True)\n",
    "    translated = translator.generate(**inputs)\n",
    "    translated_text = tokenizer.decode(translated[0], skip_special_tokens=True)\n",
    "    return translated_text\n",
    "\n",
    "# Text to Speech using pyttsx3\n",
    "def text_to_speech(text, output_audio_path=\"translated_audio.mp3\", language_code=\"en-US\"):\n",
    "    engine = pyttsx3.init()\n",
    "    engine.setProperty(\"rate\", 150)\n",
    "    voices = engine.getProperty(\"voices\")\n",
    "    for voice in voices:\n",
    "        if language_code in voice.id:\n",
    "            engine.setProperty(\"voice\", voice.id)\n",
    "            break\n",
    "    engine.save_to_file(text, output_audio_path)\n",
    "    engine.runAndWait()\n",
    "    return output_audio_path\n",
    "\n",
    "# Process input: extract audio, transcribe, translate, convert to audio\n",
    "def process_input_basic(input_path, input_type=\"video\", target_lang=\"en\"):\n",
    "    temp_audio_path = \"Temp/temp_extracted_audio.wav\"\n",
    "\n",
    "    # Extract audio\n",
    "    if input_type == \"video\":\n",
    "        video = VideoFileClip(input_path)\n",
    "        video.audio.write_audiofile(temp_audio_path, codec='pcm_s16le')  # WAV PCM\n",
    "        video.reader.close()\n",
    "        video.audio.reader.close_proc()\n",
    "    elif input_type == \"audio\":\n",
    "        temp_audio_path = input_path\n",
    "    else:\n",
    "        raise ValueError(\"Unsupported input type. Use 'video' or 'audio'.\")\n",
    "\n",
    "    # Transcribe → Translate → TTS\n",
    "    original_text = transcribe_audio(temp_audio_path)\n",
    "    translated_text = translate_text(original_text, target_lang)\n",
    "    final_audio_path = \"Temp/final_translated_audio.mp3\"\n",
    "    text_to_speech(translated_text, output_audio_path=final_audio_path)\n",
    "\n",
    "    # Cleanup only temp file (not input or video)\n",
    "    if input_type == \"video\" and os.path.exists(temp_audio_path):\n",
    "        os.remove(temp_audio_path)\n",
    "\n",
    "    return final_audio_path\n"
   ]
  },
  {
   "cell_type": "code",
   "execution_count": null,
   "metadata": {},
   "outputs": [
    {
     "name": "stdout",
     "output_type": "stream",
     "text": [
      "MoviePy - Writing audio in temp_extracted_audio.wav\n"
     ]
    },
    {
     "name": "stderr",
     "output_type": "stream",
     "text": [
      "                                                                    \r"
     ]
    },
    {
     "name": "stdout",
     "output_type": "stream",
     "text": [
      "MoviePy - Done.\n"
     ]
    }
   ],
   "source": [
    "output_audio = process_input_basic(\"Temp/0518(1).mp4\", input_type=\"video\")"
   ]
  },
  {
   "cell_type": "code",
   "execution_count": null,
   "metadata": {},
   "outputs": [],
   "source": []
  }
 ],
 "metadata": {
  "kernelspec": {
   "display_name": "venv310",
   "language": "python",
   "name": "python3"
  },
  "language_info": {
   "codemirror_mode": {
    "name": "ipython",
    "version": 3
   },
   "file_extension": ".py",
   "mimetype": "text/x-python",
   "name": "python",
   "nbconvert_exporter": "python",
   "pygments_lexer": "ipython3",
   "version": "3.10.11"
  }
 },
 "nbformat": 4,
 "nbformat_minor": 2
}
